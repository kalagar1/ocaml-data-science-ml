{
 "cells": [
  {
   "cell_type": "markdown",
   "metadata": {},
   "source": [
    "# Matrix Operations Demo\n"
   ]
  },
  {
   "cell_type": "code",
   "execution_count": 2,
   "metadata": {},
   "outputs": [
    {
     "name": "stdout",
     "output_type": "stream",
     "text": [
      "type t = { dimensions : int * int; matrix : float list list; }\n",
      "exception InvalidDimensions of string\n",
      "val dim : t -> int * int = <fun>\n",
      "val matrix : t -> float list list = <fun>\n",
      "val fill : int -> int -> float -> t = <fun>\n",
      "val zero : int -> int -> t = <fun>\n",
      "val eye : int -> t = <fun>\n",
      "val transpose : t -> t = <fun>\n",
      "val mult : t -> t -> t = <fun>\n",
      "val to_array : 'a list list -> 'a array array = <fun>\n",
      "val to_list : 'a array array -> 'a list list = <fun>\n",
      "val swap : 'a array -> int -> int -> unit = <fun>\n",
      "val rref : t -> t = <fun>\n",
      "val construct : float list list -> t = <fun>\n",
      "val lu_decomp : t -> t * t = <fun>\n",
      "val concat : t -> t -> t = <fun>\n",
      "val invert : t -> t = <fun>\n",
      "val scale : t -> float -> t = <fun>\n",
      "val det : t -> float = <fun>\n",
      "val magnitude : t -> float = <fun>\n",
      "val normalize : t -> t = <fun>\n",
      "val eigen : t -> bool -> float * t = <fun>\n",
      "val elem_pow : t -> float -> t = <fun>\n",
      "val pinv : t -> t = <fun>\n",
      "val op : t -> t -> (float -> float -> float) -> t = <fun>\n",
      "val dot : t -> t -> float = <fun>\n"
     ]
    }
   ],
   "source": [
    "#use \"matrix.ml\""
   ]
  },
  {
   "cell_type": "code",
   "execution_count": 7,
   "metadata": {},
   "outputs": [
    {
     "data": {
      "text/plain": [
       "val x : t =\n",
       "  {dimensions = (3, 3); matrix = [[1.; 0.; 5.]; [2.; 1.; 6.]; [3.; 4.; 0.]]}\n"
      ]
     },
     "execution_count": 7,
     "metadata": {},
     "output_type": "execute_result"
    }
   ],
   "source": [
    "(* Matrix construction from float list list *)\n",
    "let x = [[1.; 0.; 5.]; [2.; 1.; 6.]; [3.; 4.; 0.]] |> construct"
   ]
  },
  {
   "cell_type": "code",
   "execution_count": 8,
   "metadata": {},
   "outputs": [
    {
     "data": {
      "text/plain": [
       "- : t =\n",
       "{dimensions = (3, 4);\n",
       " matrix = [[1.; 1.; 1.; 1.]; [1.; 1.; 1.; 1.]; [1.; 1.; 1.; 1.]]}\n"
      ]
     },
     "execution_count": 8,
     "metadata": {},
     "output_type": "execute_result"
    }
   ],
   "source": [
    "(* Creating a m x n matrix of float x*)\n",
    "fill 3 4 1."
   ]
  },
  {
   "cell_type": "code",
   "execution_count": 9,
   "metadata": {},
   "outputs": [
    {
     "data": {
      "text/plain": [
       "- : t =\n",
       "{dimensions = (6, 6);\n",
       " matrix =\n",
       "  [[1.; 0.; 0.; 0.; 0.; 0.]; [0.; 1.; 0.; 0.; 0.; 0.];\n",
       "   [0.; 0.; 1.; 0.; 0.; 0.]; [0.; 0.; 0.; 1.; 0.; 0.];\n",
       "   [0.; 0.; 0.; 0.; 1.; 0.]; [0.; 0.; 0.; 0.; 0.; 1.]]}\n"
      ]
     },
     "execution_count": 9,
     "metadata": {},
     "output_type": "execute_result"
    }
   ],
   "source": [
    "(* Creating n x n identity matrix *)\n",
    "eye 6"
   ]
  },
  {
   "cell_type": "code",
   "execution_count": 12,
   "metadata": {},
   "outputs": [
    {
     "data": {
      "text/plain": [
       "val y : t =\n",
       "  {dimensions = (3, 3); matrix = [[1.; 2.; 3.]; [0.; 1.; 4.]; [5.; 6.; 0.]]}\n"
      ]
     },
     "execution_count": 12,
     "metadata": {},
     "output_type": "execute_result"
    }
   ],
   "source": [
    "(* Transposing matrix *)\n",
    "let y = x |> transpose "
   ]
  },
  {
   "cell_type": "code",
   "execution_count": 13,
   "metadata": {},
   "outputs": [
    {
     "data": {
      "text/plain": [
       "- : t =\n",
       "{dimensions = (3, 3);\n",
       " matrix = [[26.; 32.; 3.]; [32.; 41.; 10.]; [3.; 10.; 25.]]}\n"
      ]
     },
     "execution_count": 13,
     "metadata": {},
     "output_type": "execute_result"
    }
   ],
   "source": [
    "(* Multiplying matrices *)\n",
    "mult x y"
   ]
  },
  {
   "cell_type": "code",
   "execution_count": 15,
   "metadata": {},
   "outputs": [
    {
     "data": {
      "text/plain": [
       "- : t =\n",
       "{dimensions = (3, 3); matrix = [[1.; 0.; 0.]; [0.; 1.; 0.]; [0.; 0.; 1.]]}\n"
      ]
     },
     "execution_count": 15,
     "metadata": {},
     "output_type": "execute_result"
    }
   ],
   "source": [
    "(* Row reduction *)\n",
    "rref y"
   ]
  },
  {
   "cell_type": "code",
   "execution_count": 16,
   "metadata": {},
   "outputs": [
    {
     "data": {
      "text/plain": [
       "- : t * t =\n",
       "({dimensions = (3, 3); matrix = [[1.; 0.; 0.]; [2.; 1.; 0.]; [3.; 4.; 1.]]},\n",
       " {dimensions = (3, 3); matrix = [[1.; 0.; 5.]; [0.; 1.; -4.]; [0.; 0.; 1.]]})\n"
      ]
     },
     "execution_count": 16,
     "metadata": {},
     "output_type": "execute_result"
    }
   ],
   "source": [
    "(* LU Decomposition *)\n",
    "lu_decomp x"
   ]
  },
  {
   "cell_type": "code",
   "execution_count": 17,
   "metadata": {},
   "outputs": [
    {
     "data": {
      "text/plain": [
       "- : t =\n",
       "{dimensions = (3, 6);\n",
       " matrix =\n",
       "  [[1.; 0.; 5.; 1.; 2.; 3.]; [2.; 1.; 6.; 0.; 1.; 4.];\n",
       "   [3.; 4.; 0.; 5.; 6.; 0.]]}\n"
      ]
     },
     "execution_count": 17,
     "metadata": {},
     "output_type": "execute_result"
    }
   ],
   "source": [
    "(* Concatenation of matrices *)\n",
    "concat x y"
   ]
  },
  {
   "cell_type": "code",
   "execution_count": 18,
   "metadata": {},
   "outputs": [
    {
     "data": {
      "text/plain": [
       "- : t =\n",
       "{dimensions = (3, 3);\n",
       " matrix = [[-24.; 20.; -5.]; [18.; -15.; 4.]; [5.; -4.; 1.]]}\n"
      ]
     },
     "execution_count": 18,
     "metadata": {},
     "output_type": "execute_result"
    }
   ],
   "source": [
    "(* Inverting matrix *)\n",
    "invert x"
   ]
  },
  {
   "cell_type": "code",
   "execution_count": 19,
   "metadata": {},
   "outputs": [
    {
     "data": {
      "text/plain": [
       "- : t =\n",
       "{dimensions = (3, 3);\n",
       " matrix =\n",
       "  [[-23.9999999999911324; 19.999999999992724; -4.99999999999863576];\n",
       "   [17.9999999999934062; -14.9999999999943157; 3.99999999999909051];\n",
       "   [4.99999999999818101; -3.99999999999846523; 0.999999999999772626]]}\n"
      ]
     },
     "execution_count": 19,
     "metadata": {},
     "output_type": "execute_result"
    }
   ],
   "source": [
    "(* Pseudoinverse for non-invertible matrices *)\n",
    "pinv x"
   ]
  },
  {
   "cell_type": "code",
   "execution_count": 21,
   "metadata": {},
   "outputs": [
    {
     "data": {
      "text/plain": [
       "- : bool = true\n"
      ]
     },
     "execution_count": 21,
     "metadata": {},
     "output_type": "execute_result"
    }
   ],
   "source": [
    "(* Determinant *)\n",
    "det x = det y"
   ]
  },
  {
   "cell_type": "code",
   "execution_count": 24,
   "metadata": {},
   "outputs": [
    {
     "data": {
      "text/plain": [
       "- : float = 3.74165738677394133\n"
      ]
     },
     "execution_count": 24,
     "metadata": {},
     "output_type": "execute_result"
    }
   ],
   "source": [
    "(* Computing magnitude of a vector *)\n",
    "let v = [[1.; 2.; 3.]] |> construct in\n",
    "magnitude v"
   ]
  },
  {
   "cell_type": "code",
   "execution_count": 26,
   "metadata": {},
   "outputs": [
    {
     "data": {
      "text/plain": [
       "- : t =\n",
       "{dimensions = (1, 3);\n",
       " matrix = [[0.267261241912424397; 0.534522483824848793; 0.80178372573727319]]}\n"
      ]
     },
     "execution_count": 26,
     "metadata": {},
     "output_type": "execute_result"
    }
   ],
   "source": [
    "(* Normalizing vector *)\n",
    "let v = [[1.; 2.; 3.]] |> construct in\n",
    "normalize v"
   ]
  },
  {
   "cell_type": "code",
   "execution_count": 29,
   "metadata": {},
   "outputs": [
    {
     "data": {
      "text/plain": [
       "- : t =\n",
       "{dimensions = (3, 3); matrix = [[1.; 0.; 5.]; [2.; 1.; 6.]; [3.; 4.; 0.]]}\n"
      ]
     },
     "execution_count": 29,
     "metadata": {},
     "output_type": "execute_result"
    }
   ],
   "source": [
    "(* Normalizing matrix *)\n",
    "normalize x"
   ]
  },
  {
   "cell_type": "code",
   "execution_count": 27,
   "metadata": {},
   "outputs": [
    {
     "data": {
      "text/plain": [
       "- : float * t =\n",
       "(7.25602242268739,\n",
       " {dimensions = (3, 1);\n",
       "  matrix =\n",
       "   [[0.452911915449765334]; [0.688286591421305882]; [0.566685419711205229]]})\n"
      ]
     },
     "execution_count": 27,
     "metadata": {},
     "output_type": "execute_result"
    }
   ],
   "source": [
    "(* Retrieving dominant eigenvector and eigevalue *)\n",
    "eigen x true"
   ]
  },
  {
   "cell_type": "code",
   "execution_count": 28,
   "metadata": {},
   "outputs": [
    {
     "data": {
      "text/plain": [
       "- : float * t =\n",
       "(37.9465998843538088,\n",
       " {dimensions = (3, 1);\n",
       "  matrix =\n",
       "   [[-0.789925570514548481]; [0.591375910450753106]; [0.162148467725747758]]})\n"
      ]
     },
     "execution_count": 28,
     "metadata": {},
     "output_type": "execute_result"
    }
   ],
   "source": [
    "(* Retrieving smallest eigenvector and eigenvalue *)\n",
    "eigen x false"
   ]
  },
  {
   "cell_type": "code",
   "execution_count": 30,
   "metadata": {},
   "outputs": [
    {
     "data": {
      "text/plain": [
       "- : t =\n",
       "{dimensions = (3, 3);\n",
       " matrix = [[0.5; 0.; 2.5]; [1.; 0.5; 3.]; [1.5; 2.; 0.]]}\n"
      ]
     },
     "execution_count": 30,
     "metadata": {},
     "output_type": "execute_result"
    }
   ],
   "source": [
    "(* Scaling matrices *)\n",
    "scale x 0.5"
   ]
  },
  {
   "cell_type": "code",
   "execution_count": 32,
   "metadata": {},
   "outputs": [
    {
     "data": {
      "text/plain": [
       "- : t =\n",
       "{dimensions = (3, 3);\n",
       " matrix = [[1.; 0.; 125.]; [8.; 1.; 216.]; [27.; 64.; 0.]]}\n"
      ]
     },
     "execution_count": 32,
     "metadata": {},
     "output_type": "execute_result"
    }
   ],
   "source": [
    "(* Element-wise power operation on matrices *)\n",
    "elem_pow x 3.0"
   ]
  },
  {
   "cell_type": "code",
   "execution_count": 31,
   "metadata": {},
   "outputs": [
    {
     "data": {
      "text/plain": [
       "- : t =\n",
       "{dimensions = (3, 3); matrix = [[2.; 2.; 8.]; [2.; 2.; 10.]; [8.; 10.; 0.]]}\n"
      ]
     },
     "execution_count": 31,
     "metadata": {},
     "output_type": "execute_result"
    }
   ],
   "source": [
    "(* Element wise operation with matrices *)\n",
    "op x y ( +. )"
   ]
  },
  {
   "cell_type": "code",
   "execution_count": 34,
   "metadata": {},
   "outputs": [
    {
     "data": {
      "text/plain": [
       "- : float = 10.\n"
      ]
     },
     "execution_count": 34,
     "metadata": {},
     "output_type": "execute_result"
    }
   ],
   "source": [
    "(* Get dot product of two vectors *)\n",
    "let v1 = [[1.; 2.; 3.]] |> construct in\n",
    "let v2 = [[3.; 2.; 1.]] |> construct in\n",
    "dot v1 v2"
   ]
  },
  {
   "cell_type": "code",
   "execution_count": null,
   "metadata": {},
   "outputs": [],
   "source": []
  }
 ],
 "metadata": {
  "kernelspec": {
   "display_name": "OCaml cs3110-finalproj",
   "language": "OCaml",
   "name": "ocaml-jupyter"
  },
  "language_info": {
   "codemirror_mode": "text/x-ocaml",
   "file_extension": ".ml",
   "mimetype": "text/x-ocaml",
   "name": "OCaml",
   "nbconverter_exporter": null,
   "pygments_lexer": "OCaml",
   "version": "4.11.1"
  }
 },
 "nbformat": 4,
 "nbformat_minor": 4
}
