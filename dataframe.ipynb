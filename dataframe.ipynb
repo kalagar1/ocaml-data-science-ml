{
 "cells": [
  {
   "cell_type": "markdown",
   "metadata": {},
   "source": [
    "# CSV Parsing and Data Manipulation Demo"
   ]
  },
  {
   "cell_type": "code",
   "execution_count": 48,
   "metadata": {},
   "outputs": [
    {
     "name": "stdout",
     "output_type": "stream",
     "text": [
      "type dataframe = { header : string list; data : string list list; }\n",
      "val loadfile : string -> dataframe = <fun>\n",
      "val save_df : dataframe -> string -> unit = <fun>\n",
      "val print_df : dataframe -> unit = <fun>\n",
      "val get_encodings : string list -> (string * float) list = <fun>\n",
      "val encode : string list -> float list = <fun>\n",
      "val string_to_float : string list list -> float list list = <fun>\n",
      "val cols_to_float : dataframe -> float list list = <fun>\n",
      "val pre_process : dataframe -> dataframe = <fun>\n",
      "val find_index : 'a -> 'a list -> int = <fun>\n",
      "val indices_from_col_lst : dataframe -> string list -> int list = <fun>\n",
      "val rename_cols_helper : dataframe -> int list -> string list -> dataframe =\n",
      "  <fun>\n",
      "val rename_cols : dataframe -> string list -> string list -> dataframe =\n",
      "  <fun>\n",
      "val rename_cols_i : dataframe -> int list -> string list -> dataframe = <fun>\n",
      "val select_cols_helper : dataframe -> int list -> dataframe = <fun>\n",
      "val select_cols : dataframe -> string list -> dataframe = <fun>\n",
      "val select_cols_i : dataframe -> int list -> dataframe = <fun>\n",
      "val filter_helper : dataframe -> int -> (string -> bool) -> dataframe = <fun>\n",
      "val filter : dataframe -> string -> (string -> bool) -> dataframe = <fun>\n",
      "val filter_i : dataframe -> int -> (string -> bool) -> dataframe = <fun>\n",
      "val update_helper :\n",
      "  dataframe -> int -> (string -> bool) -> string -> dataframe = <fun>\n",
      "val update : dataframe -> string -> (string -> bool) -> string -> dataframe =\n",
      "  <fun>\n",
      "val update_i : dataframe -> int -> (string -> bool) -> string -> dataframe =\n",
      "  <fun>\n",
      "val get_x_y :\n",
      "  dataframe -> string list -> string -> string list list * float list = <fun>\n",
      "val train_test_split :\n",
      "  dataframe ->\n",
      "  string list ->\n",
      "  string ->\n",
      "  float -> float list list * float list list * float list * float list =\n",
      "  <fun>\n",
      "val split_with_cross_val :\n",
      "  dataframe ->\n",
      "  string list ->\n",
      "  string ->\n",
      "  float ->\n",
      "  float ->\n",
      "  float list list * float list list * float list list * float list *\n",
      "  float list * float list = <fun>\n"
     ]
    }
   ],
   "source": [
    "#require \"csv\"\n",
    "#use \"dataframe.ml\""
   ]
  },
  {
   "cell_type": "code",
   "execution_count": 49,
   "metadata": {},
   "outputs": [
    {
     "data": {
      "text/plain": [
       "val incomes : dataframe =\n",
       "  {header =\n",
       "    [\"age\"; \"education\"; \"educational-num\"; \"marital-status\"; \"occupation\";\n",
       "     \"relationship\"; \"race\"; \"income\"];\n",
       "   data =\n",
       "    [[\"25\"; \"38\"; \"28\"; \"44\"; \"18\"; \"34\"; \"29\"; \"63\"; \"24\"; \"55\"; \"65\"];\n",
       "     [\"11th\"; \"HS-grad\"; \"Assoc-acdm\"; \"Some-college\"; \"Some-college\";\n",
       "      \"10th\"; \"HS-grad\"; \"Prof-school\"; \"Some-college\"; \"7th-8th\"; \"HS-grad\"];\n",
       "     [\"7\"; \"9\"; \"12\"; \"10\"; \"10\"; \"6\"; \"9\"; \"15\"; \"10\"; \"4\"; \"9\"];\n",
       "     [\"Never-married\"; \"Married-civ-spouse\"; \"Married-civ-spouse\";\n",
       "      \"Married-civ-spouse\"; \"Never-married\"; \"Never-married\";\n",
       "      \"Never-married\"; \"Married-civ-spouse\"; \"Never-married\";\n",
       "      \"Married-civ-spouse\"; \"Married-civ-spouse\"];\n",
       "     [\"Machine-op-inspct\"; \"Farming-fishing\"; \"Protective-serv\";\n",
       "      \"Machine-op-inspct\"; \"?\"; \"Other-service\"; \"?\"; \"Prof-specialty\";\n",
       "      \"Other-service\"; \"Craft-repair\"; \"Machine-op-inspct\"];\n",
       "     [\"Own-child\"; \"Husband\"; \"Husband\"; \"Husband\"; \"Own-child\";\n",
       "      \"Not-in-family\"; \"Unmarried\"; \"Husband\"; \"Unmarried\"; \"Husband\";\n",
       "      \"Husband\"];\n",
       "     [\"Black\"; \"White\"; \"White\"; \"Black\"; \"White\"; \"White\"; \"Black\"; \"White\";\n",
       "      \"White\"; \"White\"; \"White\"];\n",
       "     [\"<=50K\"; \"<=50K\"; \">50K\"; \">50K\"; \"<=50K\"; \"<=50K\"; \"<=50K\"; \">50K\";\n",
       "      \"<=50K\"; \"<=50K\"; \">50K\"]]}\n"
      ]
     },
     "execution_count": 49,
     "metadata": {},
     "output_type": "execute_result"
    }
   ],
   "source": [
    "(* Loading a dataset *)\n",
    "\n",
    "let incomes = loadfile \"income.csv\""
   ]
  },
  {
   "cell_type": "markdown",
   "metadata": {},
   "source": [
    "Though the dataset has been loaded, the output above shows how it is internally stored and is hardly readable. To get a more readable output, use print_df"
   ]
  },
  {
   "cell_type": "code",
   "execution_count": 50,
   "metadata": {},
   "outputs": [
    {
     "name": "stdout",
     "output_type": "stream",
     "text": [
      "age education    educational-num marital-status     occupation        relationship  race  income\n",
      "25  11th         7               Never-married      Machine-op-inspct Own-child     Black <=50K\n",
      "38  HS-grad      9               Married-civ-spouse Farming-fishing   Husband       White <=50K\n",
      "28  Assoc-acdm   12              Married-civ-spouse Protective-serv   Husband       White >50K\n",
      "44  Some-college 10              Married-civ-spouse Machine-op-inspct Husband       Black >50K\n",
      "18  Some-college 10              Never-married      ?                 Own-child     White <=50K\n",
      "34  10th         6               Never-married      Other-service     Not-in-family White <=50K\n",
      "29  HS-grad      9               Never-married      ?                 Unmarried     Black <=50K\n",
      "63  Prof-school  15              Married-civ-spouse Prof-specialty    Husband       White >50K\n",
      "24  Some-college 10              Never-married      Other-service     Unmarried     White <=50K\n",
      "55  7th-8th      4               Married-civ-spouse Craft-repair      Husband       White <=50K\n",
      "65  HS-grad      9               Married-civ-spouse Machine-op-inspct Husband       White >50K\n",
      "\n"
     ]
    },
    {
     "data": {
      "text/plain": [
       "- : unit = ()\n"
      ]
     },
     "execution_count": 50,
     "metadata": {},
     "output_type": "execute_result"
    }
   ],
   "source": [
    "print_df incomes"
   ]
  },
  {
   "cell_type": "markdown",
   "metadata": {},
   "source": [
    "Suppose we want to remove the educational-num, marital_status and relationship columns to get a smaller dataset with hopefully more relevant features:"
   ]
  },
  {
   "cell_type": "code",
   "execution_count": 51,
   "metadata": {},
   "outputs": [
    {
     "data": {
      "text/plain": [
       "val selected_features : dataframe =\n",
       "  {header = [\"age\"; \"education\"; \"occupation\"; \"race\"; \"income\"];\n",
       "   data =\n",
       "    [[\"25\"; \"38\"; \"28\"; \"44\"; \"18\"; \"34\"; \"29\"; \"63\"; \"24\"; \"55\"; \"65\"];\n",
       "     [\"11th\"; \"HS-grad\"; \"Assoc-acdm\"; \"Some-college\"; \"Some-college\";\n",
       "      \"10th\"; \"HS-grad\"; \"Prof-school\"; \"Some-college\"; \"7th-8th\"; \"HS-grad\"];\n",
       "     [\"Machine-op-inspct\"; \"Farming-fishing\"; \"Protective-serv\";\n",
       "      \"Machine-op-inspct\"; \"?\"; \"Other-service\"; \"?\"; \"Prof-specialty\";\n",
       "      \"Other-service\"; \"Craft-repair\"; \"Machine-op-inspct\"];\n",
       "     [\"Black\"; \"White\"; \"White\"; \"Black\"; \"White\"; \"White\"; \"Black\"; \"White\";\n",
       "      \"White\"; \"White\"; \"White\"];\n",
       "     [\"<=50K\"; \"<=50K\"; \">50K\"; \">50K\"; \"<=50K\"; \"<=50K\"; \"<=50K\"; \">50K\";\n",
       "      \"<=50K\"; \"<=50K\"; \">50K\"]]}\n"
      ]
     },
     "execution_count": 51,
     "metadata": {},
     "output_type": "execute_result"
    }
   ],
   "source": [
    "let selected_features = select_cols incomes [\"age\"; \"education\"; \"occupation\"; \"race\"; \"income\"]"
   ]
  },
  {
   "cell_type": "code",
   "execution_count": 52,
   "metadata": {},
   "outputs": [
    {
     "name": "stdout",
     "output_type": "stream",
     "text": [
      "age education    occupation        race  income\n",
      "25  11th         Machine-op-inspct Black <=50K\n",
      "38  HS-grad      Farming-fishing   White <=50K\n",
      "28  Assoc-acdm   Protective-serv   White >50K\n",
      "44  Some-college Machine-op-inspct Black >50K\n",
      "18  Some-college ?                 White <=50K\n",
      "34  10th         Other-service     White <=50K\n",
      "29  HS-grad      ?                 Black <=50K\n",
      "63  Prof-school  Prof-specialty    White >50K\n",
      "24  Some-college Other-service     White <=50K\n",
      "55  7th-8th      Craft-repair      White <=50K\n",
      "65  HS-grad      Machine-op-inspct White >50K\n",
      "\n"
     ]
    },
    {
     "data": {
      "text/plain": [
       "- : unit = ()\n"
      ]
     },
     "execution_count": 52,
     "metadata": {},
     "output_type": "execute_result"
    }
   ],
   "source": [
    "print_df selected_features"
   ]
  },
  {
   "cell_type": "markdown",
   "metadata": {},
   "source": [
    "This is also doable by providing the index of columns using the select_cols_i function:"
   ]
  },
  {
   "cell_type": "code",
   "execution_count": 53,
   "metadata": {},
   "outputs": [
    {
     "data": {
      "text/plain": [
       "val selected_features_i : dataframe =\n",
       "  {header = [\"age\"; \"education\"; \"occupation\"; \"race\"; \"income\"];\n",
       "   data =\n",
       "    [[\"25\"; \"38\"; \"28\"; \"44\"; \"18\"; \"34\"; \"29\"; \"63\"; \"24\"; \"55\"; \"65\"];\n",
       "     [\"11th\"; \"HS-grad\"; \"Assoc-acdm\"; \"Some-college\"; \"Some-college\";\n",
       "      \"10th\"; \"HS-grad\"; \"Prof-school\"; \"Some-college\"; \"7th-8th\"; \"HS-grad\"];\n",
       "     [\"Machine-op-inspct\"; \"Farming-fishing\"; \"Protective-serv\";\n",
       "      \"Machine-op-inspct\"; \"?\"; \"Other-service\"; \"?\"; \"Prof-specialty\";\n",
       "      \"Other-service\"; \"Craft-repair\"; \"Machine-op-inspct\"];\n",
       "     [\"Black\"; \"White\"; \"White\"; \"Black\"; \"White\"; \"White\"; \"Black\"; \"White\";\n",
       "      \"White\"; \"White\"; \"White\"];\n",
       "     [\"<=50K\"; \"<=50K\"; \">50K\"; \">50K\"; \"<=50K\"; \"<=50K\"; \"<=50K\"; \">50K\";\n",
       "      \"<=50K\"; \"<=50K\"; \">50K\"]]}\n"
      ]
     },
     "execution_count": 53,
     "metadata": {},
     "output_type": "execute_result"
    }
   ],
   "source": [
    "let selected_features_i = select_cols_i incomes [0; 1; 4; 6; 7]"
   ]
  },
  {
   "cell_type": "code",
   "execution_count": 54,
   "metadata": {},
   "outputs": [
    {
     "name": "stdout",
     "output_type": "stream",
     "text": [
      "age education    occupation        race  income\n",
      "25  11th         Machine-op-inspct Black <=50K\n",
      "38  HS-grad      Farming-fishing   White <=50K\n",
      "28  Assoc-acdm   Protective-serv   White >50K\n",
      "44  Some-college Machine-op-inspct Black >50K\n",
      "18  Some-college ?                 White <=50K\n",
      "34  10th         Other-service     White <=50K\n",
      "29  HS-grad      ?                 Black <=50K\n",
      "63  Prof-school  Prof-specialty    White >50K\n",
      "24  Some-college Other-service     White <=50K\n",
      "55  7th-8th      Craft-repair      White <=50K\n",
      "65  HS-grad      Machine-op-inspct White >50K\n",
      "\n"
     ]
    },
    {
     "data": {
      "text/plain": [
       "- : unit = ()\n"
      ]
     },
     "execution_count": 54,
     "metadata": {},
     "output_type": "execute_result"
    }
   ],
   "source": [
    "print_df selected_features_i"
   ]
  },
  {
   "cell_type": "markdown",
   "metadata": {},
   "source": [
    "We see that in the 'job' column, 2 values are missing and denoted with a '?'. Other datasets might represent missing data using 'NaN' or 'null'. Whatever the case, it would be great if we could fill in some data in that case instead of deleting the entire row (which might discard valuable data). In this case, it seems reasonable to fill it in with 'Other-service'. We can do that using update_cols (which, again, has an update_cols_i counterpart for updating using column indices)."
   ]
  },
  {
   "cell_type": "code",
   "execution_count": 56,
   "metadata": {},
   "outputs": [
    {
     "data": {
      "text/plain": [
       "val missing_data_filled : dataframe =\n",
       "  {header = [\"age\"; \"education\"; \"occupation\"; \"race\"; \"income\"];\n",
       "   data =\n",
       "    [[\"25\"; \"38\"; \"28\"; \"44\"; \"18\"; \"34\"; \"29\"; \"63\"; \"24\"; \"55\"; \"65\"];\n",
       "     [\"11th\"; \"HS-grad\"; \"Assoc-acdm\"; \"Some-college\"; \"Some-college\";\n",
       "      \"10th\"; \"HS-grad\"; \"Prof-school\"; \"Some-college\"; \"7th-8th\"; \"HS-grad\"];\n",
       "     [\"Machine-op-inspct\"; \"Farming-fishing\"; \"Protective-serv\";\n",
       "      \"Machine-op-inspct\"; \"Other-service\"; \"Other-service\"; \"Other-service\";\n",
       "      \"Prof-specialty\"; \"Other-service\"; \"Craft-repair\"; \"Machine-op-inspct\"];\n",
       "     [\"Black\"; \"White\"; \"White\"; \"Black\"; \"White\"; \"White\"; \"Black\"; \"White\";\n",
       "      \"White\"; \"White\"; \"White\"];\n",
       "     [\"<=50K\"; \"<=50K\"; \">50K\"; \">50K\"; \"<=50K\"; \"<=50K\"; \"<=50K\"; \">50K\";\n",
       "      \"<=50K\"; \"<=50K\"; \">50K\"]]}\n"
      ]
     },
     "execution_count": 56,
     "metadata": {},
     "output_type": "execute_result"
    }
   ],
   "source": [
    "let missing_data_filled = \n",
    "    update selected_features \"occupation\" (fun x -> x = \"?\") \"Other-service\""
   ]
  },
  {
   "cell_type": "code",
   "execution_count": 57,
   "metadata": {},
   "outputs": [
    {
     "name": "stdout",
     "output_type": "stream",
     "text": [
      "age education    occupation        race  income\n",
      "25  11th         Machine-op-inspct Black <=50K\n",
      "38  HS-grad      Farming-fishing   White <=50K\n",
      "28  Assoc-acdm   Protective-serv   White >50K\n",
      "44  Some-college Machine-op-inspct Black >50K\n",
      "18  Some-college Other-service     White <=50K\n",
      "34  10th         Other-service     White <=50K\n",
      "29  HS-grad      Other-service     Black <=50K\n",
      "63  Prof-school  Prof-specialty    White >50K\n",
      "24  Some-college Other-service     White <=50K\n",
      "55  7th-8th      Craft-repair      White <=50K\n",
      "65  HS-grad      Machine-op-inspct White >50K\n",
      "\n"
     ]
    },
    {
     "data": {
      "text/plain": [
       "- : unit = ()\n"
      ]
     },
     "execution_count": 57,
     "metadata": {},
     "output_type": "execute_result"
    }
   ],
   "source": [
    "print_df missing_data_filled"
   ]
  },
  {
   "cell_type": "markdown",
   "metadata": {},
   "source": [
    "Suppose we wish to remove data from people with a 7th-8th grade education. We can use filter for this (which also has a filter_i counterpart for getting a column using an index)."
   ]
  },
  {
   "cell_type": "code",
   "execution_count": 71,
   "metadata": {},
   "outputs": [
    {
     "data": {
      "text/plain": [
       "val mid_school_removed : dataframe =\n",
       "  {header = [\"age\"; \"education\"; \"occupation\"; \"race\"; \"income\"];\n",
       "   data =\n",
       "    [[\"25\"; \"38\"; \"28\"; \"44\"; \"18\"; \"34\"; \"29\"; \"63\"; \"24\"; \"65\"];\n",
       "     [\"11th\"; \"HS-grad\"; \"Assoc-acdm\"; \"Some-college\"; \"Some-college\";\n",
       "      \"10th\"; \"HS-grad\"; \"Prof-school\"; \"Some-college\"; \"HS-grad\"];\n",
       "     [\"Machine-op-inspct\"; \"Farming-fishing\"; \"Protective-serv\";\n",
       "      \"Machine-op-inspct\"; \"Other-service\"; \"Other-service\"; \"Other-service\";\n",
       "      \"Prof-specialty\"; \"Other-service\"; \"Machine-op-inspct\"];\n",
       "     [\"Black\"; \"White\"; \"White\"; \"Black\"; \"White\"; \"White\"; \"Black\"; \"White\";\n",
       "      \"White\"; \"White\"];\n",
       "     [\"<=50K\"; \"<=50K\"; \">50K\"; \">50K\"; \"<=50K\"; \"<=50K\"; \"<=50K\"; \">50K\";\n",
       "      \"<=50K\"; \">50K\"]]}\n"
      ]
     },
     "execution_count": 71,
     "metadata": {},
     "output_type": "execute_result"
    }
   ],
   "source": [
    "let mid_school_removed = filter missing_data_filled \"education\" (fun x -> x <> \"7th-8th\")"
   ]
  },
  {
   "cell_type": "code",
   "execution_count": 72,
   "metadata": {},
   "outputs": [
    {
     "name": "stdout",
     "output_type": "stream",
     "text": [
      "age education    occupation        race  income\n",
      "25  11th         Machine-op-inspct Black <=50K\n",
      "38  HS-grad      Farming-fishing   White <=50K\n",
      "28  Assoc-acdm   Protective-serv   White >50K\n",
      "44  Some-college Machine-op-inspct Black >50K\n",
      "18  Some-college Other-service     White <=50K\n",
      "34  10th         Other-service     White <=50K\n",
      "29  HS-grad      Other-service     Black <=50K\n",
      "63  Prof-school  Prof-specialty    White >50K\n",
      "24  Some-college Other-service     White <=50K\n",
      "65  HS-grad      Machine-op-inspct White >50K\n",
      "\n"
     ]
    },
    {
     "data": {
      "text/plain": [
       "- : unit = ()\n"
      ]
     },
     "execution_count": 72,
     "metadata": {},
     "output_type": "execute_result"
    }
   ],
   "source": [
    "print_df mid_school_removed"
   ]
  },
  {
   "cell_type": "code",
   "execution_count": 78,
   "metadata": {},
   "outputs": [
    {
     "data": {
      "text/plain": [
       "val x_train : float list list =\n",
       "  [[25.; 38.; 28.; 44.; 18.; 34.]; [2.; 4.; 3.; 6.; 6.; 1.];\n",
       "   [2.; 1.; 5.; 2.; 3.; 3.]; [1.; 2.; 2.; 1.; 2.; 2.]]\n",
       "val x_test : float list list =\n",
       "  [[29.; 63.; 24.; 65.]; [4.; 5.; 6.; 4.]; [3.; 4.; 3.; 2.];\n",
       "   [1.; 2.; 2.; 2.]]\n",
       "val y_train : float list = [1.; 1.; 2.; 2.; 1.; 1.]\n",
       "val y_test : float list = [1.; 2.; 1.; 2.]\n"
      ]
     },
     "execution_count": 78,
     "metadata": {},
     "output_type": "execute_result"
    }
   ],
   "source": [
    "let x_train, x_test, y_train, y_test = \n",
    "    train_test_split mid_school_removed [\"age\"; \"education\"; \"occupation\"; \"race\"] \"income\" 0.5"
   ]
  }
 ],
 "metadata": {
  "kernelspec": {
   "display_name": "OCaml cs3110-finalproj",
   "language": "OCaml",
   "name": "ocaml-jupyter"
  },
  "language_info": {
   "codemirror_mode": "text/x-ocaml",
   "file_extension": ".ml",
   "mimetype": "text/x-ocaml",
   "name": "OCaml",
   "nbconverter_exporter": null,
   "pygments_lexer": "OCaml",
   "version": "4.11.1"
  }
 },
 "nbformat": 4,
 "nbformat_minor": 4
}